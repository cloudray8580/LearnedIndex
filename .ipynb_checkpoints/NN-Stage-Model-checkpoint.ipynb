{
 "cells": [
  {
   "cell_type": "code",
   "execution_count": null,
   "metadata": {},
   "outputs": [],
   "source": [
    "# load data\n",
    "import pandas as pd\n",
    "df = pd.read_csv(\"./Data/SortedPOIs.csv\")\n",
    "TOTAL = len(df)+1\n",
    "COL = df.columns\n",
    "print(TOTAL) # 1157569"
   ]
  },
  {
   "cell_type": "code",
   "execution_count": null,
   "metadata": {},
   "outputs": [],
   "source": [
    "from sklearn import neural_network\n",
    "import ipdb\n",
    "import time\n",
    "\n",
    "stages = [1,10,10]\n",
    "index = []\n",
    "data = []\n",
    "\n",
    "start_time=time.time()\n",
    "\n",
    "for i in range(len(stages)):\n",
    "    temp = []\n",
    "    for j in range(stages[i]):\n",
    "        df_ = pd.DataFrame(columns=COL)\n",
    "        temp.append(df_)\n",
    "    data.append(temp)\n",
    "    \n",
    "data[0][0] = df\n",
    "\n",
    "for i in range(len(stages)):\n",
    "    temp = []\n",
    "    print(\"======stage:\"+str(i)+\"======\")\n",
    "    for j in range(stages[i]):\n",
    "        print(\"model:\"+str(j))\n",
    "        nn = neural_network.MLPRegressor(hidden_layer_sizes=(16, 2),max_iter=1000)\n",
    "        train_x = data[i][j].iloc[:,0:2]\n",
    "        train_y = data[i][j].iloc[:,2]\n",
    "        nn.fit(train_x,train_y)\n",
    "        temp.append(nn)\n",
    "        # allocate data\n",
    "        if i < len(stages)-1:\n",
    "            predicted = nn.predict(train_x)\n",
    "            for pi in range(len(predicted)): # do not change the prediction\n",
    "                #print(item)\n",
    "                if predicted[pi] < 0:\n",
    "                    predicted[pi] = 0\n",
    "                if predicted[pi] >= TOTAL:\n",
    "                    predicted[pi] = TOTAL-1   \n",
    "            ModelID = ((predicted/TOTAL)*stages[i+1]).astype(int)\n",
    "            data[i][j].iloc[:,3]=ModelID\n",
    "            for k in range(stages[i+1]):\n",
    "                data[i+1][k] = data[i+1][k].append(data[i][j].loc[data[i][j]['prediction'] == k])\n",
    "#             too slow!\n",
    "#             for k in range(len(ModelID)):\n",
    "#                 data[i+1][ModelID[k]].loc[data[i+1][ModelID[k]].size/3]=data[i][j].iloc[k,:]\n",
    "#                 if k % 1000 == 0:\n",
    "#                     print(k)\n",
    "    index.append(temp)\n",
    "\n",
    "elapsed_time = time.time() - start_time\n",
    "print(elapsed_time)"
   ]
  },
  {
   "cell_type": "code",
   "execution_count": 13,
   "metadata": {
    "collapsed": true
   },
   "outputs": [],
   "source": [
    "import numpy as np\n",
    "# use the generated stage index for prediction\n",
    "def predict_with_stage_model(model, data):\n",
    "    totalSize = len(data)+1\n",
    "    predicted_y = []\n",
    "    tempy = 0\n",
    "    for i in range(len(data)):\n",
    "        modelIndex = 0\n",
    "        for m in range(len(model)):\n",
    "            tempy = model[m][modelIndex].predict(data.iloc[i,:].reshape(1,-1))\n",
    "            if tempy < 0:\n",
    "                tempy = 0\n",
    "            if tempy >= totalSize:\n",
    "                tempy = totalSize-1\n",
    "            if m < len(model)-1:\n",
    "                modelIndex = int((tempy/totalSize)*len(model[m+1]))\n",
    "                \n",
    "        predicted_y.append(tempy)\n",
    "        \n",
    "    return predicted_y"
   ]
  },
  {
   "cell_type": "code",
   "execution_count": 20,
   "metadata": {},
   "outputs": [
    {
     "name": "stdout",
     "output_type": "stream",
     "text": [
      "1157570\n",
      "10\n"
     ]
    }
   ],
   "source": [
    "print(index)\n",
    "print(len(temp))"
   ]
  },
  {
   "cell_type": "code",
   "execution_count": null,
   "metadata": {},
   "outputs": [],
   "source": [
    "import matplotlib.pyplot as plt\n",
    "import time\n",
    "\n",
    "train_x=df.iloc[:,0:2]\n",
    "train_y=df.iloc[:,2]\n",
    "start_time=time.time()\n",
    "predicted_y = predict_with_stage_model(index, train_x)\n",
    "elapsed_time = time.time() - start_time\n",
    "print(elapsed_time)\n",
    "\n",
    "fig, ax = plt.subplots()\n",
    "ax.scatter(train_y, predicted_y, edgecolors=(0, 0, 0))\n",
    "ax.plot([train_y.min(), train_y.max()], [train_y.min(), train_y.max()], 'k--', lw=4)\n",
    "ax.set_xlabel('Measured')\n",
    "ax.set_ylabel('Predicted')\n",
    "plt.show()"
   ]
  },
  {
   "cell_type": "code",
   "execution_count": null,
   "metadata": {},
   "outputs": [],
   "source": [
    "# estimate the result\n",
    "from sklearn.metrics import explained_variance_score\n",
    "\n",
    "# 1- Var(Ytrue - Ypred)/Var(Ytrue)  best: 1  the lower the worse\n",
    "result = explained_variance_score(train_y, predicted_y)\n",
    "print(result)\n",
    "\n",
    "# calculate scan item amount\n",
    "ind = 0\n",
    "scan = 0\n",
    "totalscan = 0\n",
    "for i in range(len(df)):\n",
    "    ind = predicted_y[i]\n",
    "    scan = abs(index-i) # distance to exact\n",
    "    totalscan += scan\n",
    "\n",
    "print(totalscan/len(df))"
   ]
  },
  {
   "cell_type": "code",
   "execution_count": null,
   "metadata": {
    "collapsed": true
   },
   "outputs": [],
   "source": []
  }
 ],
 "metadata": {
  "kernelspec": {
   "display_name": "Python 3",
   "language": "python",
   "name": "python3"
  },
  "language_info": {
   "codemirror_mode": {
    "name": "ipython",
    "version": 3
   },
   "file_extension": ".py",
   "mimetype": "text/x-python",
   "name": "python",
   "nbconvert_exporter": "python",
   "pygments_lexer": "ipython3",
   "version": "3.6.3"
  }
 },
 "nbformat": 4,
 "nbformat_minor": 2
}
