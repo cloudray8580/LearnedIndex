{
 "cells": [
  {
   "cell_type": "code",
   "execution_count": 9,
   "metadata": {
    "collapsed": true
   },
   "outputs": [],
   "source": [
    "def xy2d(n, x, y):\n",
    "    d = 0\n",
    "    s = int(n / 2)\n",
    "    while s > 0:\n",
    "        s = int(s/2)\n",
    "        rx = (x & s) > 0\n",
    "        ry = (y & s) > 0\n",
    "        d += s * s * ((3 * rx) ^ ry)\n",
    "        x,y = rot(s, x, y, rx, ry)\n",
    "    return d\n",
    "\n",
    "def rot(n, x, y, rx, ry):\n",
    "    if ry == 0 :\n",
    "        if rx == 1 :\n",
    "            x = n-1 - x\n",
    "            y = n-1 - y\n",
    "        t  = x\n",
    "        x = y\n",
    "        y = t\n",
    "    return x, y"
   ]
  },
  {
   "cell_type": "code",
   "execution_count": 10,
   "metadata": {
    "collapsed": true
   },
   "outputs": [],
   "source": [
    "import csv\n",
    "HILBERT_N = 4194306 # 4 Million\n",
    "list = []\n",
    "count = -1\n",
    "with open(\"./Data/SortedPOIs.csv\", newline='') as csvfile:\n",
    "    spamreader = csv.reader(csvfile)\n",
    "    for row in spamreader:\n",
    "        if count == -1: # ignore the head info\n",
    "            count += 1\n",
    "            continue\n",
    "        x = float(row[0])\n",
    "        y = float(row[1])\n",
    "        x_ = int((2*x+180)*10000)\n",
    "        y_ = int((y+180)*10000)\n",
    "        h_ = xy2d(HILBERT_N,x_, y_)\n",
    "        list.append([x,y,x_,y_,h_,count])\n",
    "        count += 1\n",
    "#         if count % 10000 == 0:\n",
    "#             print(count)"
   ]
  },
  {
   "cell_type": "code",
   "execution_count": 11,
   "metadata": {
    "collapsed": true
   },
   "outputs": [],
   "source": [
    "import csv\n",
    "def write_csv_file(path, head, data):  \n",
    "    try:  \n",
    "        with open(path, 'w', newline='') as csv_file:  \n",
    "            writer = csv.writer(csv_file, dialect='excel')  \n",
    "  \n",
    "            if head is not None:  \n",
    "                writer.writerow(head)  \n",
    "  \n",
    "            for row in data:  \n",
    "                writer.writerow(row)  \n",
    "  \n",
    "            print(\"Write a CSV file to path %s Successful.\" % path)  \n",
    "    except Exception as e:  \n",
    "        print(\"Write an CSV file to path: %s, Case: %s\" % (path, e)) "
   ]
  },
  {
   "cell_type": "code",
   "execution_count": 12,
   "metadata": {},
   "outputs": [
    {
     "name": "stdout",
     "output_type": "stream",
     "text": [
      "Write a CSV file to path ./Data/HilbertSortedPOIs.csv Successful.\n"
     ]
    }
   ],
   "source": [
    "list.sort(key = lambda x:(x[4]))\n",
    "for i in  range(len(list)):\n",
    "    list[i][5] = i\n",
    "write_csv_file(\"./Data/HilbertSortedPOIs.csv\",['x','y','x_','y_','hilbert','order','prediction'],list)"
   ]
  },
  {
   "cell_type": "code",
   "execution_count": null,
   "metadata": {
    "collapsed": true
   },
   "outputs": [],
   "source": []
  }
 ],
 "metadata": {
  "kernelspec": {
   "display_name": "Python 3",
   "language": "python",
   "name": "python3"
  },
  "language_info": {
   "codemirror_mode": {
    "name": "ipython",
    "version": 3
   },
   "file_extension": ".py",
   "mimetype": "text/x-python",
   "name": "python",
   "nbconvert_exporter": "python",
   "pygments_lexer": "ipython3",
   "version": "3.6.3"
  }
 },
 "nbformat": 4,
 "nbformat_minor": 2
}
