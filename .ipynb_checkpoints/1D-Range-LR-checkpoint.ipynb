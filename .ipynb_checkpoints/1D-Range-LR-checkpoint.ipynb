{
 "cells": [
  {
   "cell_type": "code",
   "execution_count": 46,
   "metadata": {},
   "outputs": [
    {
     "name": "stderr",
     "output_type": "stream",
     "text": [
      "IOPub data rate exceeded.\n",
      "The notebook server will temporarily stop sending output\n",
      "to the client in order to avoid crashing it.\n",
      "To change this limit, set the config variable\n",
      "`--NotebookApp.iopub_data_rate_limit`.\n"
     ]
    }
   ],
   "source": [
    "import os \n",
    "# current_working_directory = os.getcwd() # current_working_directory  C:\\Users\\Cloud\\Desktop\\LearnIndex\n",
    "# print (current_working_directory)\n",
    "# fo = open(\"./Data/POIs.pts\", \"r+\")\n",
    "\n",
    "list = []\n",
    "count = 0\n",
    "with open(\"./Data/POIs.pts\", \"r+\") as f:\n",
    "    for line in f:\n",
    "        if line != \"====\\n\":\n",
    "            count+=1\n",
    "            coord = line.strip().split(\" \")\n",
    "            x = float(coord[0])\n",
    "            y = float(coord[1])\n",
    "            z = 0\n",
    "            list.append([x,y,z])\n",
    "#             if count == 10:\n",
    "#                 break\n",
    "\n",
    "list.sort(key = lambda x:(x[0],x[1])) # first sory by x then sort by y\n",
    "\n",
    "position = 0\n",
    "for rows in list:\n",
    "    rows[2]=position\n",
    "    position+=1\n",
    "    \n",
    "print(list)\n",
    "\n",
    "\n",
    "print(\"finished!!!\")"
   ]
  },
  {
   "cell_type": "code",
   "execution_count": 47,
   "metadata": {
    "collapsed": true
   },
   "outputs": [],
   "source": [
    "import csv\n",
    "def write_csv_file(path, head, data):  \n",
    "    try:  \n",
    "        with open(path, 'w', newline='') as csv_file:  \n",
    "            writer = csv.writer(csv_file, dialect='excel')  \n",
    "  \n",
    "            if head is not None:  \n",
    "                writer.writerow(head)  \n",
    "  \n",
    "            for row in data:  \n",
    "                writer.writerow(row)  \n",
    "  \n",
    "            print(\"Write a CSV file to path %s Successful.\" % path)  \n",
    "    except Exception as e:  \n",
    "        print(\"Write an CSV file to path: %s, Case: %s\" % (path, e)) "
   ]
  },
  {
   "cell_type": "code",
   "execution_count": 48,
   "metadata": {},
   "outputs": [
    {
     "name": "stdout",
     "output_type": "stream",
     "text": [
      "Write a CSV file to path ./Data/SortedPOIs.csv Successful.\n"
     ]
    }
   ],
   "source": [
    "write_csv_file(\"./Data/SortedPOIs.csv\",None,list)"
   ]
  },
  {
   "cell_type": "code",
   "execution_count": 1,
   "metadata": {},
   "outputs": [],
   "source": [
    "import pandas as pd\n",
    "df = pd.read_csv(\"./Data/SortedPOIs.csv\") #this will ingore the first line as it regard it as head\n",
    "#print(df.columns)\n",
    "#print(df.iloc[:,0])"
   ]
  },
  {
   "cell_type": "code",
   "execution_count": 4,
   "metadata": {},
   "outputs": [
    {
     "name": "stdout",
     "output_type": "stream",
     "text": [
      "         -85.0511   -96.0033\n",
      "0        -85.0511  -95.97350\n",
      "1        -85.0494  -80.88040\n",
      "2        -84.9574   88.66650\n",
      "3        -84.9463   88.72900\n",
      "4        -84.9463   88.72900\n",
      "5        -84.9463   88.72900\n",
      "6        -84.9463   88.72900\n",
      "7        -84.8686   88.58830\n",
      "8        -83.8626 -160.31200\n",
      "9        -83.7507   85.75520\n",
      "10       -83.0072   88.59010\n",
      "11       -83.0034   97.15430\n",
      "12       -82.2142   11.25000\n",
      "13       -79.1350   88.65930\n",
      "14       -79.1294   88.64200\n",
      "15       -76.3099   22.49950\n",
      "16       -70.7500   37.80370\n",
      "17       -66.5151  -39.38180\n",
      "18       -66.5134  -39.37500\n",
      "19       -62.9087   88.59380\n",
      "20       -58.8227   44.29930\n",
      "21       -58.7935   44.30890\n",
      "22       -58.7749   44.27780\n",
      "23       -57.8599  -80.36840\n",
      "24       -54.9371  -67.63410\n",
      "25       -54.9356  -67.61500\n",
      "26       -54.8396  -68.31240\n",
      "27       -54.8395  -68.31210\n",
      "28       -54.8081  -68.30780\n",
      "29       -54.8080  -68.31770\n",
      "...           ...        ...\n",
      "1157539   69.3596   88.18750\n",
      "1157540   69.3605   88.18960\n",
      "1157541   69.4278   30.81410\n",
      "1157542   69.4280   30.83040\n",
      "1157543   69.4297   30.81160\n",
      "1157544   69.4839   88.39300\n",
      "1157545   69.4841   88.39750\n",
      "1157546   69.4935   88.37560\n",
      "1157547   69.6444   18.99690\n",
      "1157548   69.6480   18.95300\n",
      "1157549   69.6673   18.96990\n",
      "1157550   69.6712   18.92060\n",
      "1157551   69.6746   18.92160\n",
      "1157552   69.6749   18.92060\n",
      "1157553   69.7263   30.04840\n",
      "1157554   69.9652   23.26080\n",
      "1157555   70.5433   88.62760\n",
      "1157556   71.0395   27.84300\n",
      "1157557   71.0619   28.26200\n",
      "1157558   76.6747   88.60540\n",
      "1157559   77.7685   -6.87736\n",
      "1157560   78.2173   15.63630\n",
      "1157561   81.3083  149.76600\n",
      "1157562   83.9743   82.26410\n",
      "1157563   83.9750   82.26410\n",
      "1157564   84.1057   88.59380\n",
      "1157565   84.8096  -45.18680\n",
      "1157566   84.8096  -45.18680\n",
      "1157567   84.9802  -10.60730\n",
      "1157568   84.9807  -10.60730\n",
      "\n",
      "[1157569 rows x 2 columns]\n"
     ]
    },
    {
     "data": {
      "text/plain": [
       "LinearRegression(copy_X=True, fit_intercept=True, n_jobs=1, normalize=False)"
      ]
     },
     "execution_count": 4,
     "metadata": {},
     "output_type": "execute_result"
    }
   ],
   "source": [
    "import numpy as np\n",
    "from sklearn import linear_model\n",
    "lr = linear_model.LinearRegression()\n",
    "\n",
    "train_x=df.iloc[:,0:2]\n",
    "train_y=df.iloc[:,2]\n",
    "\n",
    "#train_x=np.reshape(train_x,[-1, 1])\n",
    "# train_y.reshape(-1, 1)\n",
    "#print(train_x)\n",
    "\n",
    "print(train_x)\n",
    "\n",
    "lr.fit(train_x,train_y)"
   ]
  },
  {
   "cell_type": "code",
   "execution_count": 10,
   "metadata": {},
   "outputs": [
    {
     "data": {
      "image/png": "[encoded data removed]",
      "text/plain": [
       "<matplotlib.figure.Figure at 0x169b4d6a940>"
      ]
     },
     "metadata": {},
     "output_type": "display_data"
    },
    {
     "name": "stdout",
     "output_type": "stream",
     "text": [
      "[ -748763.47948925  -751093.42736863  -776338.2409999  ...,\n",
      "  1406526.09623251  1403311.01538784  1403317.38296567]\n"
     ]
    }
   ],
   "source": [
    "import matplotlib.pyplot as plt\n",
    "predicted_y=lr.predict(train_x)\n",
    "\n",
    "fig, ax = plt.subplots()\n",
    "ax.scatter(train_y, predicted_y, edgecolors=(0, 0, 0))\n",
    "ax.plot([train_y.min(), train_y.max()], [train_y.min(), train_y.max()], 'k--', lw=4)\n",
    "ax.set_xlabel('Measured')\n",
    "ax.set_ylabel('Predicted')\n",
    "plt.show()\n",
    "\n",
    "print(predicted_y)"
   ]
  },
  {
   "cell_type": "code",
   "execution_count": 11,
   "metadata": {},
   "outputs": [
    {
     "name": "stdout",
     "output_type": "stream",
     "text": [
      "57427\n",
      "344\n",
      "0.934544634912\n"
     ]
    }
   ],
   "source": [
    "#print(predicted_y)\n",
    "print((predicted_y< 0).sum())\n",
    "print((predicted_y> 1157569).sum())\n",
    "\n",
    "# estimate the result\n",
    "from sklearn.metrics import explained_variance_score\n",
    "\n",
    "# 1- Var(Ytrue - Ypred)/Var(Ytrue)  best: 1  the lower the worse\n",
    "result = explained_variance_score(train_y, predicted_y)\n",
    "print(result)"
   ]
  },
  {
   "cell_type": "code",
   "execution_count": 7,
   "metadata": {},
   "outputs": [
    {
     "name": "stdout",
     "output_type": "stream",
     "text": [
      "246.7118730545044\n"
     ]
    },
    {
     "data": {
      "image/png": "[encoded data removed]",
      "text/plain": [
       "<matplotlib.figure.Figure at 0x169b4d6a080>"
      ]
     },
     "metadata": {},
     "output_type": "display_data"
    }
   ],
   "source": [
    "import time\n",
    "from sklearn import neural_network\n",
    "nnreg = neural_network.MLPRegressor(hidden_layer_sizes=(32, 2),max_iter=1000)\n",
    "start_time=time.time()\n",
    "nnreg.fit(train_x,train_y)\n",
    "elapsed_time = time.time() - start_time\n",
    "print(elapsed_time)\n",
    "predicted_y=nnreg.predict(train_x)\n",
    "fig, ax = plt.subplots()\n",
    "ax.scatter(train_y, predicted_y, edgecolors=(0, 0, 0))\n",
    "ax.plot([train_y.min(), train_y.max()], [train_y.min(), train_y.max()], 'k--', lw=4)\n",
    "ax.set_xlabel('Measured')\n",
    "ax.set_ylabel('Predicted')\n",
    "plt.show()"
   ]
  },
  {
   "cell_type": "code",
   "execution_count": 9,
   "metadata": {},
   "outputs": [
    {
     "name": "stdout",
     "output_type": "stream",
     "text": [
      "0\n",
      "16414\n",
      "0.982852262601\n"
     ]
    }
   ],
   "source": [
    "#print(predicted_y)\n",
    "print((predicted_y< 0).sum())\n",
    "print((predicted_y> 1157569).sum())\n",
    "\n",
    "# estimate the result\n",
    "from sklearn.metrics import explained_variance_score\n",
    "\n",
    "# 1- Var(Ytrue - Ypred)/Var(Ytrue)  best: 1  the lower the worse\n",
    "result = explained_variance_score(train_y, predicted_y)\n",
    "print(result)"
   ]
  },
  {
   "cell_type": "code",
   "execution_count": null,
   "metadata": {
    "collapsed": true
   },
   "outputs": [],
   "source": []
  }
 ],
 "metadata": {
  "kernelspec": {
   "display_name": "Python 3",
   "language": "python",
   "name": "python3"
  },
  "language_info": {
   "codemirror_mode": {
    "name": "ipython",
    "version": 3
   },
   "file_extension": ".py",
   "mimetype": "text/x-python",
   "name": "python",
   "nbconvert_exporter": "python",
   "pygments_lexer": "ipython3",
   "version": "3.6.3"
  }
 },
 "nbformat": 4,
 "nbformat_minor": 2
}
