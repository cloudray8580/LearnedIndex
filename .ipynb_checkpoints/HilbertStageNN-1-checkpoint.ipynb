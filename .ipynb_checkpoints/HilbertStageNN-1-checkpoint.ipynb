{
 "cells": [
  {
   "cell_type": "code",
   "execution_count": null,
   "metadata": {},
   "outputs": [],
   "source": [
    "import pandas as pd\n",
    "df = pd.read_csv(\"./Data/HilbertSortedPOIs.csv\")\n",
    "print(df)\n",
    "TOTAL = len(df)+1\n",
    "COL = df.columns"
   ]
  },
  {
   "cell_type": "code",
   "execution_count": 35,
   "metadata": {},
   "outputs": [
    {
     "name": "stdout",
     "output_type": "stream",
     "text": [
      "False\n",
      "True\n",
      "StandardScaler(copy=True, with_mean=True, with_std=True)\n",
      "[  2.04740792e+01   8.85068347e+00   2.20948145e+06   1.88850673e+06\n",
      "   1.81648098e+12]\n",
      "                x         y        x_        y_   hilbert    order  prediction\n",
      "0       -0.206655  0.278680 -0.206655  0.278680 -1.661982        0         NaN\n",
      "1       -0.194256  0.280023 -0.194256  0.280023 -1.661937        1         NaN\n",
      "2       -0.192262  0.280542 -0.192262  0.280542 -1.661924        2         NaN\n",
      "3       -0.192487  0.279986 -0.192487  0.279986 -1.661924        3         NaN\n",
      "4       -0.192396  0.279972 -0.192396  0.279972 -1.661924        4         NaN\n",
      "5       -0.192388  0.279982 -0.192388  0.279983 -1.661924        5         NaN\n",
      "6       -0.191843  0.280507 -0.191843  0.280507 -1.661924        6         NaN\n",
      "7       -0.190418  0.279417 -0.190417  0.279418 -1.661923        7         NaN\n",
      "8       -0.191168  0.279335 -0.191168  0.279335 -1.661922        8         NaN\n",
      "9       -0.190852  0.279322 -0.190852  0.279322 -1.661922        9         NaN\n",
      "10      -0.190651  0.279321 -0.190650  0.279321 -1.661922       10         NaN\n",
      "11      -0.190801  0.278812 -0.190800  0.278812 -1.661922       11         NaN\n",
      "12      -0.190852  0.278811 -0.190852  0.278811 -1.661922       12         NaN\n",
      "13      -0.190931  0.278806 -0.190931  0.278807 -1.661922       13         NaN\n",
      "14      -0.190718  0.278885 -0.190718  0.278886 -1.661922       14         NaN\n",
      "15      -0.189960  0.279034 -0.189959  0.279034 -1.661922       15         NaN\n",
      "16      -0.190497  0.277672 -0.190496  0.277672 -1.661921       16         NaN\n",
      "17      -0.190690  0.278602 -0.190690  0.278603 -1.661921       17         NaN\n",
      "18      -0.191954  0.278417 -0.191954  0.278417 -1.661921       18         NaN\n",
      "19      -0.191741  0.278612 -0.191740  0.278612 -1.661921       19         NaN\n",
      "20      -0.193016  0.279289 -0.193016  0.279289 -1.661920       20         NaN\n",
      "21      -0.193012  0.279317 -0.193012  0.279317 -1.661920       21         NaN\n",
      "22      -0.192980  0.279262 -0.192980  0.279262 -1.661920       22         NaN\n",
      "23      -0.192503  0.279233 -0.192502  0.279234 -1.661920       23         NaN\n",
      "24      -0.192345  0.278916 -0.192344  0.278916 -1.661920       24         NaN\n",
      "25      -0.192175  0.278950 -0.192175  0.278950 -1.661920       25         NaN\n",
      "26      -0.191910  0.278842 -0.191910  0.278842 -1.661920       26         NaN\n",
      "27      -0.191650  0.278805 -0.191649  0.278805 -1.661920       27         NaN\n",
      "28      -0.192199  0.279111 -0.192198  0.279111 -1.661919       28         NaN\n",
      "29      -0.192357  0.279379 -0.192356  0.279379 -1.661919       29         NaN\n",
      "...           ...       ...       ...       ...       ...      ...         ...\n",
      "1157540 -0.333744  0.783288 -0.333744  0.783288  2.281232  1157540         NaN\n",
      "1157541 -0.333156  0.784489 -0.333155  0.784489  2.281233  1157541         NaN\n",
      "1157542 -0.333551  0.786360 -0.333550  0.786360  2.281247  1157542         NaN\n",
      "1157543 -0.335106  0.783919 -0.335106  0.783919  2.281252  1157543         NaN\n",
      "1157544 -0.339683  0.784594 -0.339683  0.784594  2.281255  1157544         NaN\n",
      "1157545 -0.339560  0.784662 -0.339562  0.784662  2.281255  1157545         NaN\n",
      "1157546 -0.346040  0.786520 -0.346040  0.786520  2.281266  1157546         NaN\n",
      "1157547 -0.304259  0.426278 -0.304259  0.426278  2.305633  1157547         NaN\n",
      "1157548 -0.349649  0.404521 -0.349649  0.404521  2.306165  1157548         NaN\n",
      "1157549 -0.349717  0.404518 -0.349716  0.404518  2.306165  1157549         NaN\n",
      "1157550 -0.485748  0.368828 -0.485749  0.368829  2.331983  1157550         NaN\n",
      "1157551 -0.505687  0.329879 -0.505688  0.329879  2.332457  1157551         NaN\n",
      "1157552 -0.617385  0.268258 -0.617385  0.268258  2.342588  1157552         NaN\n",
      "1157553 -0.449093  0.276262 -0.449093  0.276262  2.347205  1157553         NaN\n",
      "1157554 -0.449132  0.276252 -0.449133  0.276252  2.347205  1157554         NaN\n",
      "1157555 -0.453389  0.352930 -0.453390  0.352930  2.351491  1157555         NaN\n",
      "1157556 -0.453269  0.352997 -0.453269  0.352997  2.351491  1157556         NaN\n",
      "1157557 -0.453278  0.352972 -0.453279  0.352972  2.351491  1157557         NaN\n",
      "1157558 -0.453073  0.352571 -0.453074  0.352571  2.351491  1157558         NaN\n",
      "1157559 -0.452871  0.353043 -0.452872  0.353043  2.351491  1157559         NaN\n",
      "1157560 -0.452831  0.353039 -0.452831  0.353039  2.351491  1157560         NaN\n",
      "1157561 -0.453729  0.353216 -0.453729  0.353216  2.351491  1157561         NaN\n",
      "1157562 -0.453747  0.353226 -0.453747  0.353226  2.351491  1157562         NaN\n",
      "1157563 -0.451880  0.352720 -0.451881  0.352720  2.351504  1157563         NaN\n",
      "1157564 -0.451877  0.352701 -0.451877  0.352701  2.351504  1157564         NaN\n",
      "1157565 -0.451848  0.352671 -0.451848  0.352671  2.351504  1157565         NaN\n",
      "1157566 -0.452924  0.352330 -0.452924  0.352330  2.351509  1157566         NaN\n",
      "1157567 -0.310431  0.337558 -0.310431  0.337558  2.355097  1157567         NaN\n",
      "1157568 -0.335489  0.355434 -0.335489  0.355434  2.355583  1157568         NaN\n",
      "1157569 -0.267710  0.253829 -0.267709  0.253829  2.361635  1157569         NaN\n",
      "\n",
      "[1157570 rows x 7 columns]\n"
     ]
    }
   ],
   "source": [
    "import numpy as np\n",
    "print(np.any(np.isnan(df.iloc[:,0:5]))) # should be false\n",
    "print(np.all(np.isfinite(df.iloc[:,0:5]))) # should be true\n",
    "from sklearn import preprocessing\n",
    "scaler = preprocessing.StandardScaler()\n",
    "print(scaler.fit(df.iloc[:,0:5]))\n",
    "print(scaler.mean_)\n",
    "df.iloc[:,0:5]=scaler.transform(df.iloc[:,0:5])\n",
    "print(df)\n",
    "# print(df)"
   ]
  },
  {
   "cell_type": "code",
   "execution_count": 16,
   "metadata": {},
   "outputs": [
    {
     "name": "stderr",
     "output_type": "stream",
     "text": [
      "D:\\anaconda\\lib\\site-packages\\ipykernel_launcher.py:4: FutureWarning: reshape is deprecated and will raise in a subsequent release. Please use .values.reshape(...) instead\n",
      "  after removing the cwd from sys.path.\n"
     ]
    }
   ],
   "source": [
    "from sklearn import neural_network\n",
    "nn = neural_network.MLPRegressor(hidden_layer_sizes=(16, 2),max_iter=1000)\n",
    "# train_x = df.iloc[:,4]\n",
    "train_x = df.iloc[:,4].reshape(-1,1)\n",
    "train_y = df.iloc[:,5]\n",
    "nn.fit(train_x,train_y)\n",
    "predicted = nn.predict(train_x)"
   ]
  },
  {
   "cell_type": "code",
   "execution_count": 17,
   "metadata": {},
   "outputs": [
    {
     "name": "stdout",
     "output_type": "stream",
     "text": [
      "[    1730.63807647     1733.56928122     1734.3681303  ...,\n",
      "  1231296.34112961  1231459.48950239  1233494.12426894]\n"
     ]
    },
    {
     "data": {
      "image/png": "[encoded data removed]",
      "text/plain": [
       "<matplotlib.figure.Figure at 0x23580044a58>"
      ]
     },
     "metadata": {},
     "output_type": "display_data"
    }
   ],
   "source": [
    "print(predicted)\n",
    "import matplotlib.pyplot as plt\n",
    "fig, ax = plt.subplots()\n",
    "ax.scatter(train_y, predicted, edgecolors=(0, 0, 0))\n",
    "ax.plot([train_y.min(), train_y.max()], [train_y.min(), train_y.max()], 'k--', lw=4)\n",
    "ax.set_xlabel('Measured')\n",
    "ax.set_ylabel('Predicted')\n",
    "plt.show()"
   ]
  },
  {
   "cell_type": "code",
   "execution_count": null,
   "metadata": {},
   "outputs": [],
   "source": [
    "from sklearn import neural_network\n",
    "import ipdb\n",
    "import time\n",
    "stages = [1,10]\n",
    "index = []\n",
    "data = []\n",
    "\n",
    "start_time=time.time()\n",
    "\n",
    "for i in range(len(stages)):\n",
    "    temp = []\n",
    "    for j in range(stages[i]):\n",
    "        df_ = pd.DataFrame(columns=COL)\n",
    "        temp.append(df_)\n",
    "    data.append(temp)\n",
    "    \n",
    "data[0][0] = df\n",
    "nodatacount = 0\n",
    "train_y = data[i][j].iloc[:,5]\n",
    "print(train_y)\n",
    "\n",
    "for i in range(len(stages)):\n",
    "    temp = []\n",
    "    print(\"======stage:\"+str(i)+\"======\")\n",
    "    \n",
    "    for j in range(stages[i]):\n",
    "        print(\"model:\"+str(j))\n",
    "        if len(data[i][j]) == 0:\n",
    "            nodatacount += 1\n",
    "            data[i][j] = data[i][j-1]\n",
    "            print(j)\n",
    "        nn = neural_network.MLPRegressor(hidden_layer_sizes=(16, 2),max_iter=1000)\n",
    "        train_x = data[i][j].iloc[:,4].reshape(-1,1)\n",
    "#         train_x = data[i][j].iloc[:,0:5]\n",
    "        train_y = data[i][j].iloc[:,5]\n",
    "        nn.fit(train_x,train_y)\n",
    "        temp.append(nn)\n",
    "        # allocate data\n",
    "        if i < len(stages)-1:\n",
    "            predicted = nn.predict(train_x)\n",
    "            for pi in range(len(predicted)): # do not change the prediction\n",
    "                #print(item)\n",
    "                if predicted[pi] < 0:\n",
    "                    predicted[pi] = 0\n",
    "                if predicted[pi] >= TOTAL:\n",
    "                    predicted[pi] = TOTAL-1   \n",
    "            ModelID = ((predicted/TOTAL)*stages[i+1]).astype(int)\n",
    "            print(ModelID)\n",
    "            data[i][j].iloc[:,-1]=ModelID\n",
    "#             if i == 1 and np.any(data[i][j]['prediction'] == 4):\n",
    "#                 print(j)\n",
    "\n",
    "            for k in range(stages[i+1]):\n",
    "                data[i+1][k] = data[i+1][k].append(data[i][j].loc[data[i][j]['prediction'] == k])\n",
    "    index.append(temp)\n",
    "\n",
    "elapsed_time = time.time() - start_time\n",
    "print(elapsed_time)\n",
    "print(nodatacount)"
   ]
  },
  {
   "cell_type": "code",
   "execution_count": null,
   "metadata": {
    "collapsed": true
   },
   "outputs": [],
   "source": [
    "import numpy as np\n",
    "# use the generated stage index for prediction\n",
    "def predict_with_stage_model(model, data):\n",
    "    totalSize = len(data)+1\n",
    "    predicted_y = []\n",
    "    tempy = 0\n",
    "    for i in range(len(data)):\n",
    "        modelIndex = 0\n",
    "        for m in range(len(model)):\n",
    "#             tempy = model[m][modelIndex].predict(data.iloc[i,:].reshape(1,-1))\n",
    "            tempy = model[m][modelIndex].predict(data.iloc[i,])\n",
    "            if tempy < 0:\n",
    "                tempy = 0\n",
    "            if tempy >= totalSize:\n",
    "                tempy = totalSize-1\n",
    "            if m < len(model)-1:\n",
    "                modelIndex = int((tempy/totalSize)*len(model[m+1]))\n",
    "                \n",
    "        predicted_y.append(tempy)\n",
    "        \n",
    "    return predicted_y"
   ]
  },
  {
   "cell_type": "code",
   "execution_count": null,
   "metadata": {},
   "outputs": [],
   "source": [
    "import matplotlib.pyplot as plt\n",
    "import time\n",
    "\n",
    "# train_x=df.iloc[:,0:5]\n",
    "train_x=df.iloc[:,4]\n",
    "train_y=df.iloc[:,5]\n",
    "\n",
    "start_time=time.time()\n",
    "predicted_y = predict_with_stage_model(index, train_x)\n",
    "elapsed_time = time.time() - start_time\n",
    "print(elapsed_time)\n",
    "\n",
    "fig, ax = plt.subplots()\n",
    "ax.scatter(train_y, predicted_y, edgecolors=(0, 0, 0))\n",
    "ax.plot([train_y.min(), train_y.max()], [train_y.min(), train_y.max()], 'k--', lw=4)\n",
    "ax.set_xlabel('Measured')\n",
    "ax.set_ylabel('Predicted')\n",
    "plt.show()"
   ]
  },
  {
   "cell_type": "code",
   "execution_count": 39,
   "metadata": {},
   "outputs": [
    {
     "name": "stdout",
     "output_type": "stream",
     "text": [
      "1157570\n",
      "1157570\n",
      "-0.290070893987\n",
      "[ 212714.36868905]\n"
     ]
    }
   ],
   "source": [
    "from sklearn.metrics import explained_variance_score\n",
    "train_y=df.iloc[:,5]\n",
    "print(len(train_y))\n",
    "print(len(predicted_y))\n",
    "\n",
    "# 1- Var(Ytrue - Ypred)/Var(Ytrue)  best: 1  the lower the worse\n",
    "result = explained_variance_score(train_y, predicted_y)\n",
    "print(result)# calculate scan item amount\n",
    "\n",
    "ind = 0\n",
    "scan = 0\n",
    "totalscan = 0\n",
    "for i in range(len(df)):\n",
    "    ind = predicted_y[i]\n",
    "    scan = abs(ind-i) # distance to exact\n",
    "    totalscan += scan\n",
    "\n",
    "print(totalscan/len(df))"
   ]
  },
  {
   "cell_type": "code",
   "execution_count": null,
   "metadata": {
    "collapsed": true
   },
   "outputs": [],
   "source": []
  }
 ],
 "metadata": {
  "kernelspec": {
   "display_name": "Python 3",
   "language": "python",
   "name": "python3"
  },
  "language_info": {
   "codemirror_mode": {
    "name": "ipython",
    "version": 3
   },
   "file_extension": ".py",
   "mimetype": "text/x-python",
   "name": "python",
   "nbconvert_exporter": "python",
   "pygments_lexer": "ipython3",
   "version": "3.6.3"
  }
 },
 "nbformat": 4,
 "nbformat_minor": 2
}
