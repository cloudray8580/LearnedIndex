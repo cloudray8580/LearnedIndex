{
 "cells": [
  {
   "cell_type": "code",
   "execution_count": 8,
   "metadata": {},
   "outputs": [
    {
     "name": "stdout",
     "output_type": "stream",
     "text": [
      "10001\n"
     ]
    }
   ],
   "source": [
    "# load data\n",
    "import pandas as pd\n",
    "df = pd.read_csv(\"./Data/SortedPOIs.csv\")\n",
    "df = df.iloc[0:10000,:]\n",
    "TOTAL = len(df)+1\n",
    "COL = df.columns\n",
    "print(TOTAL) # 1157569"
   ]
  },
  {
   "cell_type": "code",
   "execution_count": 9,
   "metadata": {},
   "outputs": [
    {
     "name": "stdout",
     "output_type": "stream",
     "text": [
      "j:0\n",
      "i:0\n",
      "finish predicition\n",
      "finish processing raw data\n",
      "0\n",
      "1000\n",
      "2000\n",
      "3000\n",
      "4000\n",
      "5000\n",
      "6000\n",
      "7000\n",
      "8000\n",
      "9000\n",
      "finish allocate data\n",
      "j:0\n",
      "i:1\n",
      "finish predicition\n",
      "finish processing raw data\n",
      "0\n",
      "1000\n",
      "finish allocate data\n",
      "j:1\n",
      "i:1\n",
      "finish predicition\n",
      "finish processing raw data\n",
      "0\n",
      "1000\n",
      "2000\n",
      "3000\n",
      "4000\n",
      "5000\n",
      "6000\n",
      "7000\n",
      "finish allocate data\n",
      "j:2\n",
      "i:1\n",
      "finish predicition\n",
      "finish processing raw data\n",
      "0\n",
      "1000\n",
      "finish allocate data\n",
      "j:0\n",
      "j:1\n",
      "j:2\n",
      "7\n"
     ]
    }
   ],
   "source": [
    "from sklearn import linear_model\n",
    "import ipdb\n",
    "\n",
    "stages = [1,3,3]\n",
    "index = []\n",
    "data = []\n",
    "\n",
    "for i in range(len(stages)):\n",
    "    temp = []\n",
    "    for j in range(stages[i]):\n",
    "        df_ = pd.DataFrame(columns=COL)\n",
    "        temp.append(df_)\n",
    "    data.append(temp)\n",
    "    \n",
    "data[0][0] = df\n",
    "\n",
    "for i in range(len(stages)):\n",
    "    temp = []\n",
    "    for j in range(stages[i]):\n",
    "        print(\"j:\"+str(j))\n",
    "        lr = linear_model.LinearRegression()\n",
    "        train_x = data[i][j].iloc[:,0:2]\n",
    "        train_y = data[i][j].iloc[:,2]\n",
    "        lr.fit(train_x,train_y)\n",
    "        temp.append(lr)\n",
    "        # allocate data\n",
    "        if i < len(stages)-1:\n",
    "            print(\"i:\"+str(i))\n",
    "            predicted = lr.predict(train_x)\n",
    "            print(\"finish predicition\")\n",
    "            for pi in range(len(predicted)): # do not change the prediction\n",
    "                #print(item)\n",
    "                if predicted[pi] < 0:\n",
    "                    predicted[pi] = 0\n",
    "                if predicted[pi] >= TOTAL:\n",
    "                    predicted[pi] = TOTAL-1\n",
    "            print(\"finish processing raw data\")    \n",
    "            ModelID = (predicted/TOTAL)*stages[i+1]\n",
    "            for k in range(len(ModelID)):\n",
    "                data[i+1][int(ModelID[k])].loc[data[i+1][int(ModelID[k])].size/3]=data[i][j].iloc[k,:]\n",
    "                if k % 1000 == 0:\n",
    "                    print(k)\n",
    "            print(\"finish allocate data\")\n",
    "        index.append(temp)\n",
    "\n",
    "print(len(index))"
   ]
  },
  {
   "cell_type": "code",
   "execution_count": 23,
   "metadata": {},
   "outputs": [
    {
     "name": "stdout",
     "output_type": "stream",
     "text": [
      "[[LinearRegression(copy_X=True, fit_intercept=True, n_jobs=1, normalize=False)], [LinearRegression(copy_X=True, fit_intercept=True, n_jobs=1, normalize=False), LinearRegression(copy_X=True, fit_intercept=True, n_jobs=1, normalize=False), LinearRegression(copy_X=True, fit_intercept=True, n_jobs=1, normalize=False)], [LinearRegression(copy_X=True, fit_intercept=True, n_jobs=1, normalize=False), LinearRegression(copy_X=True, fit_intercept=True, n_jobs=1, normalize=False), LinearRegression(copy_X=True, fit_intercept=True, n_jobs=1, normalize=False)], [LinearRegression(copy_X=True, fit_intercept=True, n_jobs=1, normalize=False), LinearRegression(copy_X=True, fit_intercept=True, n_jobs=1, normalize=False), LinearRegression(copy_X=True, fit_intercept=True, n_jobs=1, normalize=False)], [LinearRegression(copy_X=True, fit_intercept=True, n_jobs=1, normalize=False), LinearRegression(copy_X=True, fit_intercept=True, n_jobs=1, normalize=False), LinearRegression(copy_X=True, fit_intercept=True, n_jobs=1, normalize=False)], [LinearRegression(copy_X=True, fit_intercept=True, n_jobs=1, normalize=False), LinearRegression(copy_X=True, fit_intercept=True, n_jobs=1, normalize=False), LinearRegression(copy_X=True, fit_intercept=True, n_jobs=1, normalize=False)], [LinearRegression(copy_X=True, fit_intercept=True, n_jobs=1, normalize=False), LinearRegression(copy_X=True, fit_intercept=True, n_jobs=1, normalize=False), LinearRegression(copy_X=True, fit_intercept=True, n_jobs=1, normalize=False)]]\n",
      "7\n",
      "1\n",
      "3\n",
      "3\n",
      "3\n",
      "3\n",
      "3\n",
      "3\n"
     ]
    }
   ],
   "source": [
    "print(index)\n",
    "print(len(index))\n",
    "print(len(index[0]))\n",
    "print(len(index[1]))\n",
    "print(len(index[2]))\n",
    "print(len(index[3]))\n",
    "print(len(index[4]))\n",
    "print(len(index[5]))\n",
    "print(len(index[6]))"
   ]
  },
  {
   "cell_type": "code",
   "execution_count": 14,
   "metadata": {},
   "outputs": [
    {
     "name": "stdout",
     "output_type": "stream",
     "text": [
      "3\n"
     ]
    }
   ],
   "source": [
    "print(len(stages))"
   ]
  },
  {
   "cell_type": "code",
   "execution_count": 22,
   "metadata": {},
   "outputs": [
    {
     "name": "stdout",
     "output_type": "stream",
     "text": [
      "[[1], [1, 2], [1, 2]]\n",
      "3\n",
      "1\n",
      "2\n",
      "2\n"
     ]
    }
   ],
   "source": [
    "index2 = []\n",
    "temp = []\n",
    "temp.append(1)\n",
    "index2.append(temp)\n",
    "\n",
    "temp = []\n",
    "temp.append(1)\n",
    "temp.append(2)\n",
    "index2.append(temp)\n",
    "\n",
    "temp = []\n",
    "temp.append(1)\n",
    "temp.append(2)\n",
    "index2.append(temp)\n",
    "\n",
    "\n",
    "# index2.append([1])\n",
    "# index2.append([1,2,3])\n",
    "# index2.append([1,2,3])\n",
    "print(index2)\n",
    "print(len(index2))\n",
    "print(len(index2[0]))\n",
    "print(len(index2[1]))\n",
    "print(len(index2[2]))"
   ]
  },
  {
   "cell_type": "code",
   "execution_count": null,
   "metadata": {
    "collapsed": true
   },
   "outputs": [],
   "source": []
  }
 ],
 "metadata": {
  "kernelspec": {
   "display_name": "Python 3",
   "language": "python",
   "name": "python3"
  },
  "language_info": {
   "codemirror_mode": {
    "name": "ipython",
    "version": 3
   },
   "file_extension": ".py",
   "mimetype": "text/x-python",
   "name": "python",
   "nbconvert_exporter": "python",
   "pygments_lexer": "ipython3",
   "version": "3.6.3"
  }
 },
 "nbformat": 4,
 "nbformat_minor": 2
}
