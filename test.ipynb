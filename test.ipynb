{
 "cells": [
  {
   "cell_type": "code",
   "execution_count": 62,
   "metadata": {},
   "outputs": [
    {
     "name": "stdout",
     "output_type": "stream",
     "text": [
      "           x        y  order\n",
      "0.0 -85.0511 -95.9735    1.0\n",
      "1.0 -85.0511 -95.9735    1.0\n",
      "2.0 -85.0511 -95.9735    1.0\n",
      "           x        y\n",
      "0.0 -85.0511 -95.9735\n",
      "1.0 -85.0511 -95.9735\n",
      "2.0 -85.0511 -95.9735\n"
     ]
    }
   ],
   "source": [
    "import pandas as pd\n",
    "df = pd.read_csv(\"./Data/SortedPOIs.csv\")\n",
    "COL = df.columns\n",
    "\n",
    "df_ = pd.DataFrame(columns=COL)\n",
    "\n",
    "data = []\n",
    "data.append([])\n",
    "data.append([])\n",
    "data[0] = df\n",
    "data[1] = df_\n",
    "temp10 = df.iloc[0:10,:]\n",
    "\n",
    "data[0].append(temp10)\n",
    "\n",
    "data[0]=data[0].iloc[0:10,:]\n",
    "# data[0].append(df[1:2,:])\n",
    "# data[0]=data[0].append(df.iloc[1:2,:])\n",
    "# data[1]=data[1].append(df.iloc[1:3,:])\n",
    "# data[1]=data[1].append(df.iloc[3:5,:])\n",
    "# data[1]=data[1].append({'x':1,'y':2,'order':3},ignore_index=True)\n",
    "\n",
    "for i in range(3):\n",
    "    data[1].loc[data[1].size/3]=df.iloc[1,:]\n",
    "# data[1]=data[1].iloc[:,2]\n",
    "print(data[1])\n",
    "\n",
    "tx=data[1].iloc[:,0:2]\n",
    "print(tx)\n",
    "\n",
    "# print(data[1].size)\n",
    "# print(data[1].loc[0])\n",
    "#print(data[1].iloc[:,2])"
   ]
  },
  {
   "cell_type": "code",
   "execution_count": 48,
   "metadata": {},
   "outputs": [
    {
     "name": "stdout",
     "output_type": "stream",
     "text": [
      "   A  B\n",
      "0  1  2\n",
      "1  3  4\n",
      "0  5  6\n",
      "1  7  8\n"
     ]
    }
   ],
   "source": [
    "df = pd.DataFrame([[1, 2], [3, 4]], columns=list('AB'))\n",
    "df2 = pd.DataFrame([[5, 6], [7, 8]], columns=list('AB'))\n",
    "df = df.append(df2)\n",
    "print(df)"
   ]
  },
  {
   "cell_type": "code",
   "execution_count": 64,
   "metadata": {},
   "outputs": [
    {
     "name": "stdout",
     "output_type": "stream",
     "text": [
      "j1\n"
     ]
    }
   ],
   "source": [
    "j=1\n",
    "print(\"j\"+str(j))"
   ]
  },
  {
   "cell_type": "code",
   "execution_count": 3,
   "metadata": {},
   "outputs": [
    {
     "name": "stdout",
     "output_type": "stream",
     "text": [
      "[ 2.  0.  0.  2.  2.]\n"
     ]
    }
   ],
   "source": [
    "import numpy as np\n",
    "p = 0.5\n",
    "U1 = (np.random.rand(5) < p)/p\n",
    "print(U1)"
   ]
  },
  {
   "cell_type": "code",
   "execution_count": null,
   "metadata": {
    "collapsed": true
   },
   "outputs": [],
   "source": []
  }
 ],
 "metadata": {
  "kernelspec": {
   "display_name": "Python 3",
   "language": "python",
   "name": "python3"
  },
  "language_info": {
   "codemirror_mode": {
    "name": "ipython",
    "version": 3
   },
   "file_extension": ".py",
   "mimetype": "text/x-python",
   "name": "python",
   "nbconvert_exporter": "python",
   "pygments_lexer": "ipython3",
   "version": "3.6.3"
  }
 },
 "nbformat": 4,
 "nbformat_minor": 2
}
