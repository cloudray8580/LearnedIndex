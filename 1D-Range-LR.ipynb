{
 "cells": [
  {
   "cell_type": "code",
   "execution_count": 4,
   "metadata": {},
   "outputs": [
    {
     "name": "stderr",
     "output_type": "stream",
     "text": [
      "IOPub data rate exceeded.\n",
      "The notebook server will temporarily stop sending output\n",
      "to the client in order to avoid crashing it.\n",
      "To change this limit, set the config variable\n",
      "`--NotebookApp.iopub_data_rate_limit`.\n"
     ]
    }
   ],
   "source": [
    "import os \n",
    "# current_working_directory = os.getcwd() # current_working_directory  C:\\Users\\Cloud\\Desktop\\LearnIndex\n",
    "# print (current_working_directory)\n",
    "# fo = open(\"./Data/POIs.pts\", \"r+\")\n",
    "\n",
    "list = []\n",
    "count = 0\n",
    "with open(\"./Data/POIs.pts\", \"r+\") as f:\n",
    "    for line in f:\n",
    "        if line != \"====\\n\":\n",
    "            count+=1\n",
    "            coord = line.strip().split(\" \")\n",
    "            x = float(coord[0])\n",
    "            y = float(coord[1])\n",
    "            z = 0\n",
    "            list.append([x,y,z])\n",
    "#             if count == 10:\n",
    "#                 break\n",
    "\n",
    "list.sort(key = lambda x:(x[0],x[1])) # first sory by x then sort by y\n",
    "\n",
    "position = 0\n",
    "for rows in list:\n",
    "    rows[2]=position\n",
    "    position+=1\n",
    "    \n",
    "print(list)\n",
    "\n",
    "\n",
    "print(\"finished!!!\")"
   ]
  },
  {
   "cell_type": "code",
   "execution_count": 5,
   "metadata": {
    "collapsed": true
   },
   "outputs": [],
   "source": [
    "import csv\n",
    "def write_csv_file(path, head, data):  \n",
    "    try:  \n",
    "        with open(path, 'w', newline='') as csv_file:  \n",
    "            writer = csv.writer(csv_file, dialect='excel')  \n",
    "  \n",
    "            if head is not None:  \n",
    "                writer.writerow(head)  \n",
    "  \n",
    "            for row in data:  \n",
    "                writer.writerow(row)  \n",
    "  \n",
    "            print(\"Write a CSV file to path %s Successful.\" % path)  \n",
    "    except Exception as e:  \n",
    "        print(\"Write an CSV file to path: %s, Case: %s\" % (path, e)) "
   ]
  },
  {
   "cell_type": "code",
   "execution_count": 6,
   "metadata": {},
   "outputs": [
    {
     "name": "stdout",
     "output_type": "stream",
     "text": [
      "Write a CSV file to path ./Data/SortedPOIs.csv Successful.\n"
     ]
    }
   ],
   "source": [
    "write_csv_file(\"./Data/SortedPOIs.csv\",None,list)"
   ]
  },
  {
   "cell_type": "code",
   "execution_count": 8,
   "metadata": {},
   "outputs": [],
   "source": [
    "import pandas as pd\n",
    "df = pd.read_csv(\"./Data/SortedPOIs.csv\") #this will ingore the first line as it regard it as head\n",
    "#print(df.columns)\n",
    "#print(df.iloc[:,0])"
   ]
  },
  {
   "cell_type": "code",
   "execution_count": 9,
   "metadata": {},
   "outputs": [
    {
     "data": {
      "text/plain": [
       "LinearRegression(copy_X=True, fit_intercept=True, n_jobs=1, normalize=False)"
      ]
     },
     "execution_count": 9,
     "metadata": {},
     "output_type": "execute_result"
    }
   ],
   "source": [
    "import numpy as np\n",
    "from sklearn import linear_model\n",
    "lr = linear_model.LinearRegression()\n",
    "\n",
    "train_x=df.iloc[:,0:2]\n",
    "train_y=df.iloc[:,2]\n",
    "\n",
    "#train_x=np.reshape(train_x,[-1, 1])\n",
    "# train_y.reshape(-1, 1)\n",
    "#print(train_x)\n",
    "\n",
    "lr.fit(train_x,train_y)"
   ]
  },
  {
   "cell_type": "code",
   "execution_count": 18,
   "metadata": {},
   "outputs": [
    {
     "name": "stdout",
     "output_type": "stream",
     "text": [
      "0.01195979118347168\n"
     ]
    },
    {
     "data": {
      "image/png": "[encoded data removed]",
      "text/plain": [
       "<matplotlib.figure.Figure at 0x1ff81200f98>"
      ]
     },
     "metadata": {},
     "output_type": "display_data"
    },
    {
     "name": "stdout",
     "output_type": "stream",
     "text": [
      "[ -748763.47948925  -751093.42736863  -776338.2409999  ...,\n",
      "  1406526.09623251  1403311.01538784  1403317.38296567]\n"
     ]
    }
   ],
   "source": [
    "import matplotlib.pyplot as plt\n",
    "import time\n",
    "start_time=time.time()\n",
    "predicted_y=lr.predict(train_x)\n",
    "elapsed_time = time.time() - start_time\n",
    "print(elapsed_time)\n",
    "\n",
    "fig, ax = plt.subplots()\n",
    "ax.scatter(train_y, predicted_y, edgecolors=(0, 0, 0))\n",
    "ax.plot([train_y.min(), train_y.max()], [train_y.min(), train_y.max()], 'k--', lw=4)\n",
    "ax.set_xlabel('Measured')\n",
    "ax.set_ylabel('Predicted')\n",
    "plt.show()\n",
    "\n",
    "print(predicted_y)"
   ]
  },
  {
   "cell_type": "code",
   "execution_count": 11,
   "metadata": {},
   "outputs": [
    {
     "name": "stdout",
     "output_type": "stream",
     "text": [
      "57427\n",
      "344\n",
      "0.934544634912\n"
     ]
    }
   ],
   "source": [
    "#print(predicted_y)\n",
    "print((predicted_y< 0).sum())\n",
    "print((predicted_y> 1157569).sum())\n",
    "\n",
    "# estimate the result\n",
    "from sklearn.metrics import explained_variance_score\n",
    "\n",
    "# 1- Var(Ytrue - Ypred)/Var(Ytrue)  best: 1  the lower the worse\n",
    "result = explained_variance_score(train_y, predicted_y)\n",
    "print(result)"
   ]
  },
  {
   "cell_type": "code",
   "execution_count": 14,
   "metadata": {},
   "outputs": [
    {
     "name": "stdout",
     "output_type": "stream",
     "text": [
      "33959.7269127\n"
     ]
    }
   ],
   "source": [
    "# calculate scan item amount\n",
    "index = 0\n",
    "scan = 0\n",
    "totalscan = 0\n",
    "for i in range(len(predicted_y)):\n",
    "    index = predicted_y[i]\n",
    "    scan = abs(index-i) # distance to exact\n",
    "    totalscan += scan\n",
    "\n",
    "print(totalscan/len(df))"
   ]
  },
  {
   "cell_type": "code",
   "execution_count": 15,
   "metadata": {},
   "outputs": [
    {
     "name": "stdout",
     "output_type": "stream",
     "text": [
      "576.8207478523254\n"
     ]
    },
    {
     "data": {
      "image/png": "[encoded data removed]",
      "text/plain": [
       "<matplotlib.figure.Figure at 0x1ffdfd031d0>"
      ]
     },
     "metadata": {},
     "output_type": "display_data"
    }
   ],
   "source": [
    "import time\n",
    "from sklearn import neural_network\n",
    "nnreg = neural_network.MLPRegressor(hidden_layer_sizes=(32, 2),max_iter=1000)\n",
    "start_time=time.time()\n",
    "nnreg.fit(train_x,train_y)\n",
    "elapsed_time = time.time() - start_time\n",
    "print(elapsed_time)\n",
    "predicted_y=nnreg.predict(train_x)\n",
    "fig, ax = plt.subplots()\n",
    "ax.scatter(train_y, predicted_y, edgecolors=(0, 0, 0))\n",
    "ax.plot([train_y.min(), train_y.max()], [train_y.min(), train_y.max()], 'k--', lw=4)\n",
    "ax.set_xlabel('Measured')\n",
    "ax.set_ylabel('Predicted')\n",
    "plt.show()"
   ]
  },
  {
   "cell_type": "code",
   "execution_count": 16,
   "metadata": {},
   "outputs": [
    {
     "name": "stdout",
     "output_type": "stream",
     "text": [
      "0\n",
      "7451\n",
      "0.998660789352\n"
     ]
    }
   ],
   "source": [
    "#print(predicted_y)\n",
    "print((predicted_y< 0).sum())\n",
    "print((predicted_y> 1157569).sum())\n",
    "\n",
    "# estimate the result\n",
    "from sklearn.metrics import explained_variance_score\n",
    "\n",
    "# 1- Var(Ytrue - Ypred)/Var(Ytrue)  best: 1  the lower the worse\n",
    "result = explained_variance_score(train_y, predicted_y)\n",
    "print(result)"
   ]
  },
  {
   "cell_type": "code",
   "execution_count": 17,
   "metadata": {},
   "outputs": [
    {
     "name": "stdout",
     "output_type": "stream",
     "text": [
      "9212.74907364\n"
     ]
    }
   ],
   "source": [
    "# calculate scan item amount\n",
    "index = 0\n",
    "scan = 0\n",
    "totalscan = 0\n",
    "for i in range(len(predicted_y)):\n",
    "    index = predicted_y[i]\n",
    "    scan = abs(index-i) # distance to exact\n",
    "    totalscan += scan\n",
    "\n",
    "print(totalscan/len(df))"
   ]
  },
  {
   "cell_type": "code",
   "execution_count": null,
   "metadata": {
    "collapsed": true
   },
   "outputs": [],
   "source": []
  }
 ],
 "metadata": {
  "kernelspec": {
   "display_name": "Python 3",
   "language": "python",
   "name": "python3"
  },
  "language_info": {
   "codemirror_mode": {
    "name": "ipython",
    "version": 3
   },
   "file_extension": ".py",
   "mimetype": "text/x-python",
   "name": "python",
   "nbconvert_exporter": "python",
   "pygments_lexer": "ipython3",
   "version": "3.6.3"
  }
 },
 "nbformat": 4,
 "nbformat_minor": 2
}
